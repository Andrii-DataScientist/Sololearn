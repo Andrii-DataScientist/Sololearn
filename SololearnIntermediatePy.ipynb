{
 "cells": [
  {
   "cell_type": "markdown",
   "metadata": {},
   "source": [
    "A variable that is prefaced with an asterisk (*) takes all values from the collection that are left over from the other variables."
   ]
  },
  {
   "cell_type": "code",
   "execution_count": 1,
   "metadata": {},
   "outputs": [
    {
     "name": "stdout",
     "output_type": "stream",
     "text": [
      "1\n",
      "2\n",
      "[3, 4, 5, 6, 7, 8]\n",
      "9\n"
     ]
    }
   ],
   "source": [
    "a, b, *c, d = [1,2,3,4,5,6,7,8,9]\n",
    "print(a)\n",
    "print(b)\n",
    "print(c)\n",
    "print(d)"
   ]
  },
  {
   "cell_type": "markdown",
   "metadata": {},
   "source": [
    "Use sets when:\n",
    "●  You want values to be unique\n",
    "●  When order does not matter\n",
    "\n",
    "Sets:  Unordered, Unindexed but Sorted\n",
    "\n",
    "To create an empty set:\n",
    ">>   not_set  =  { }  <-- dictionary\n",
    "\n",
    ">>   my_set  =  set( )   <-- set\n",
    "{1, 1, 2} == {1, 2}    ------>  True\n",
    "You can use the add() function to add new items to the set, and remove() to delete a specific element:\n",
    "\n",
    "nums = {1, 2, 1, 3, 1, 4, 5, 6}\n",
    "print(nums)\n",
    "nums.add(-7)\n",
    "nums.remove(3)\n",
    "print(nums)"
   ]
  },
  {
   "cell_type": "markdown",
   "metadata": {},
   "source": [
    "Sets can be combined using mathematical operations.\n",
    "The union operator | combines two sets to form a new one containing items in either. \n",
    "The intersection operator & gets items only in both. \n",
    "The difference operator - gets items in the first set but not in the second. \n",
    "The symmetric difference operator ^ gets items in either set, but not both."
   ]
  },
  {
   "cell_type": "code",
   "execution_count": 2,
   "metadata": {},
   "outputs": [
    {
     "name": "stdout",
     "output_type": "stream",
     "text": [
      "{'HTML'}\n"
     ]
    }
   ],
   "source": [
    "skills = {'Python', 'HTML', 'SQL', 'C++', 'Java', 'Scala'}\n",
    "job_skills = {'HTML', 'CSS', 'JS', 'C#', 'NodeJS'}\n",
    "print(job_skills.intersection(skills))"
   ]
  },
  {
   "cell_type": "markdown",
   "metadata": {},
   "source": [
    "Tuples can be used to output multiple values from a function.\n",
    "You need to make a function called calc(), that will take the side length of a square as its argument and return the perimeter and area using a tuple.\n",
    "The perimeter is the sum of all sides, while the area is the square of the side length.\n",
    "\n",
    "Sample Input:\n",
    "3\n",
    "\n",
    "Sample Output:\n",
    "Perimeter: 12\n",
    "Area: 9"
   ]
  },
  {
   "cell_type": "code",
   "execution_count": 3,
   "metadata": {},
   "outputs": [
    {
     "name": "stdout",
     "output_type": "stream",
     "text": [
      "4\n",
      "Perimeter: 16\n",
      "Area: 16\n"
     ]
    }
   ],
   "source": [
    "def calc(x):\n",
    "    #your code goes here\n",
    "    return (4*x,x**2)\n",
    "\n",
    "side = int(input())\n",
    "p, a = calc(side)\n",
    "\n",
    "print(\"Perimeter: \" + str(p))\n",
    "print(\"Area: \" + str(a))"
   ]
  },
  {
   "cell_type": "code",
   "execution_count": 4,
   "metadata": {},
   "outputs": [
    {
     "name": "stdout",
     "output_type": "stream",
     "text": [
      "{3}\n"
     ]
    }
   ],
   "source": [
    "a = {1,2,3}\n",
    "b = {0,3,4,5}\n",
    "print(a&b)"
   ]
  },
  {
   "cell_type": "code",
   "execution_count": 5,
   "metadata": {},
   "outputs": [
    {
     "name": "stdout",
     "output_type": "stream",
     "text": [
      "{1, 2, 3, 4, 5, 6, 7, 8, 9}\n",
      "{4, 5, 6}\n",
      "{1, 2, 3}\n",
      "{8, 9, 7}\n",
      "{1, 2, 3, 7, 8, 9}\n"
     ]
    }
   ],
   "source": [
    "first = {1, 2, 3, 4, 5, 6}\n",
    "second = {4, 5, 6, 7, 8, 9}\n",
    "\n",
    "print(first | second)\n",
    "print(first & second)\n",
    "print(first - second)\n",
    "print(second - first)\n",
    "print(first ^ second)"
   ]
  },
  {
   "cell_type": "markdown",
   "metadata": {},
   "source": [
    "Given a word as input, output a list, containing only the letters of the word that are not vowels.\n",
    "The vowels are a, e, i, o, u. \n",
    "\n",
    "Sample Input:\n",
    "awesome\n",
    "\n",
    "Sample Output: \n",
    "['w', 's', 'm']"
   ]
  },
  {
   "cell_type": "code",
   "execution_count": 6,
   "metadata": {},
   "outputs": [
    {
     "name": "stdout",
     "output_type": "stream",
     "text": [
      "3\n",
      "['3']\n"
     ]
    }
   ],
   "source": [
    "word = input()\n",
    "\n",
    "res = [i for i in word if i not in ['a','o','e','i','u']]\n",
    "print(res)"
   ]
  },
  {
   "cell_type": "markdown",
   "metadata": {},
   "source": [
    "Given a string as input, you need to output how many times each letter appears in the string.\n",
    "You decide to store the data in a dictionary, with the letters as the keys, and the corresponding counts as the values.\n",
    "Create a program to take a string as input and output a dictionary, which represents the letter count.\n",
    "\n",
    "Sample Input:\n",
    "hello\n",
    "\n",
    "Sample Output: \n",
    "{'h': 1, 'e': 1, 'l': 2, 'o': "
   ]
  },
  {
   "cell_type": "code",
   "execution_count": 8,
   "metadata": {},
   "outputs": [
    {
     "name": "stdout",
     "output_type": "stream",
     "text": [
      "{'h': 1, 'e': 1, 'l': 2, 'o': 1}\n"
     ]
    }
   ],
   "source": [
    "st = 'hello'\n",
    "dd = {}\n",
    "for i in st:\n",
    "    if i in dd:\n",
    "        dd[i] += 1\n",
    "    else:\n",
    "        dd[i] = 1\n",
    "print(dd)"
   ]
  },
  {
   "cell_type": "markdown",
   "metadata": {},
   "source": [
    "A representation of when the arguments are already passed into \"apply_twice\" function parameters.\n",
    "\n",
    "🔹1🔹\n",
    "def  apply_twice ( add_five, 10 ):\n",
    "    return  add_five ( add_five(10) )\n",
    "\n",
    "🔹2🔹\n",
    "def  apply_twice ( add_five, 10 ):\n",
    "    return  add_five(15)\n",
    "\n",
    "🔹3🔹\n",
    "def  apply_twice ( add_five, 10 ):\n",
    "    return   20\n",
    "\n",
    "\n",
    "output:\n",
    "20"
   ]
  },
  {
   "cell_type": "code",
   "execution_count": 7,
   "metadata": {},
   "outputs": [
    {
     "name": "stdout",
     "output_type": "stream",
     "text": [
      "20\n"
     ]
    }
   ],
   "source": [
    "def apply_twice(func, arg):\n",
    "\treturn func(func(arg))\n",
    "\n",
    "def add_five(x):\n",
    "\treturn x + 5\n",
    "\n",
    "print(apply_twice(add_five, 10))"
   ]
  },
  {
   "cell_type": "markdown",
   "metadata": {},
   "source": [
    "Calculate percentage of the price"
   ]
  },
  {
   "cell_type": "code",
   "execution_count": 11,
   "metadata": {},
   "outputs": [
    {
     "name": "stdout",
     "output_type": "stream",
     "text": [
      "100\n",
      "20\n",
      "20.0\n"
     ]
    }
   ],
   "source": [
    "price = int(input())\n",
    "perc = int(input())\n",
    "\n",
    "res = (lambda x,y:x*y/100)(price, perc)\n",
    "\n",
    "print(res)"
   ]
  },
  {
   "cell_type": "code",
   "execution_count": null,
   "metadata": {},
   "outputs": [],
   "source": []
  }
 ],
 "metadata": {
  "kernelspec": {
   "display_name": "Python 3",
   "language": "python",
   "name": "python3"
  },
  "language_info": {
   "codemirror_mode": {
    "name": "ipython",
    "version": 3
   },
   "file_extension": ".py",
   "mimetype": "text/x-python",
   "name": "python",
   "nbconvert_exporter": "python",
   "pygments_lexer": "ipython3",
   "version": "3.8.5"
  }
 },
 "nbformat": 4,
 "nbformat_minor": 4
}
